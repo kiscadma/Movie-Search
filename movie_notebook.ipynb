{
 "cells": [
  {
   "cell_type": "markdown",
   "metadata": {},
   "source": [
    "# Movie Search \n",
    "This is a simple search engine that uses Wikipedia movie plot data to search for movies. The data for this project is from https://www.kaggle.com/jrobischon/wikipedia-movie-plots. We are going to look at a subset of the data, specifically American films from 1972-2017."
   ]
  },
  {
   "cell_type": "markdown",
   "metadata": {},
   "source": [
    "## Loading Data\n",
    "The first thing we need to do (after downloading the data and moving it to the appropriate directory) is to load and process the data. We can use the pandas library to read the csv:"
   ]
  },
  {
   "cell_type": "code",
   "execution_count": 2,
   "metadata": {},
   "outputs": [],
   "source": [
    "import pandas as pd\n",
    "data = pd.read_csv(\"archive/wiki_movie_plots_deduped.csv\", nrows=17378-8796, \n",
    "            usecols=[\"Title\", \"Plot\"], skiprows=[i for i in range(1, 8796)])"
   ]
  },
  {
   "cell_type": "markdown",
   "metadata": {},
   "source": [
    "The number 8796 is the row of The Godfather, which is the first movie in our dataset. We are reading rows 8796 to 17378 because 17378 is the final American movie. To find similar movies, only the title and plot matter, so only those columns will be loaded. Here is some of the data, before preprocessing:"
   ]
  },
  {
   "cell_type": "code",
   "execution_count": 3,
   "metadata": {},
   "outputs": [
    {
     "data": {
      "text/html": [
       "<div>\n",
       "<style scoped>\n",
       "    .dataframe tbody tr th:only-of-type {\n",
       "        vertical-align: middle;\n",
       "    }\n",
       "\n",
       "    .dataframe tbody tr th {\n",
       "        vertical-align: top;\n",
       "    }\n",
       "\n",
       "    .dataframe thead th {\n",
       "        text-align: right;\n",
       "    }\n",
       "</style>\n",
       "<table border=\"1\" class=\"dataframe\">\n",
       "  <thead>\n",
       "    <tr style=\"text-align: right;\">\n",
       "      <th></th>\n",
       "      <th>Title</th>\n",
       "      <th>Plot</th>\n",
       "    </tr>\n",
       "  </thead>\n",
       "  <tbody>\n",
       "    <tr>\n",
       "      <th>0</th>\n",
       "      <td>The Godfather</td>\n",
       "      <td>In 1945, at his daughter Connie's wedding, Vit...</td>\n",
       "    </tr>\n",
       "    <tr>\n",
       "      <th>1</th>\n",
       "      <td>Grave of the Vampire</td>\n",
       "      <td>Several years after his death by electrocution...</td>\n",
       "    </tr>\n",
       "    <tr>\n",
       "      <th>2</th>\n",
       "      <td>The Great Northfield Minnesota Raid</td>\n",
       "      <td>In the mid-1870s, outlaws Jesse James, Cole Yo...</td>\n",
       "    </tr>\n",
       "    <tr>\n",
       "      <th>3</th>\n",
       "      <td>Hammer</td>\n",
       "      <td>B.J. Hammer is a boxer who rises up the ranks ...</td>\n",
       "    </tr>\n",
       "    <tr>\n",
       "      <th>4</th>\n",
       "      <td>Hammersmith Is Out</td>\n",
       "      <td>Billy Breedlove (Beau Bridges) is an orderly a...</td>\n",
       "    </tr>\n",
       "  </tbody>\n",
       "</table>\n",
       "</div>"
      ],
      "text/plain": [
       "                                 Title  \\\n",
       "0                        The Godfather   \n",
       "1                 Grave of the Vampire   \n",
       "2  The Great Northfield Minnesota Raid   \n",
       "3                               Hammer   \n",
       "4                   Hammersmith Is Out   \n",
       "\n",
       "                                                Plot  \n",
       "0  In 1945, at his daughter Connie's wedding, Vit...  \n",
       "1  Several years after his death by electrocution...  \n",
       "2  In the mid-1870s, outlaws Jesse James, Cole Yo...  \n",
       "3  B.J. Hammer is a boxer who rises up the ranks ...  \n",
       "4  Billy Breedlove (Beau Bridges) is an orderly a...  "
      ]
     },
     "execution_count": 3,
     "metadata": {},
     "output_type": "execute_result"
    }
   ],
   "source": [
    "data.head()"
   ]
  },
  {
   "cell_type": "markdown",
   "metadata": {},
   "source": [
    "## Transforming Data\n",
    "Now that we have some data loaded, we can preprocess it to remove unecessary information. NLTK is a good library for NLP processing, so we will use it to remove stopwords (words that don't add much meaning, like prepositions) and to lemmatize word (transform words into a base meaning, like changing dogs -> dog, or ran -> runs)."
   ]
  },
  {
   "cell_type": "code",
   "execution_count": 4,
   "metadata": {},
   "outputs": [],
   "source": [
    "import regex as re\n",
    "from nltk.corpus import stopwords\n",
    "from nltk.stem import WordNetLemmatizer\n",
    "\n",
    "stop_words = set(stopwords.words('english'))\n",
    "lem = WordNetLemmatizer()\n",
    "def preprocess(text):\n",
    "    text = re.split('\\W+', text.lower())\n",
    "    for i in range(len(text)):\n",
    "        if text[i] in stop_words:\n",
    "            text[i] = ''\n",
    "        else:\n",
    "            text[i] = lem.lemmatize(text[i])\n",
    "    return ' '.join([t for t in text if t != ''])"
   ]
  },
  {
   "cell_type": "markdown",
   "metadata": {},
   "source": [
    "We will use this to process the Plot fields of our data entries, and we will also strip excess spaces from all titles:"
   ]
  },
  {
   "cell_type": "code",
   "execution_count": 5,
   "metadata": {},
   "outputs": [],
   "source": [
    "data[\"Plot\"] = data.Plot.apply(lambda x: preprocess(x))\n",
    "data[\"Title\"] = data.Title.apply(lambda x: x.strip())"
   ]
  },
  {
   "cell_type": "markdown",
   "metadata": {},
   "source": [
    "Here is an example of our processed data:"
   ]
  },
  {
   "cell_type": "code",
   "execution_count": 6,
   "metadata": {},
   "outputs": [
    {
     "data": {
      "text/html": [
       "<div>\n",
       "<style scoped>\n",
       "    .dataframe tbody tr th:only-of-type {\n",
       "        vertical-align: middle;\n",
       "    }\n",
       "\n",
       "    .dataframe tbody tr th {\n",
       "        vertical-align: top;\n",
       "    }\n",
       "\n",
       "    .dataframe thead th {\n",
       "        text-align: right;\n",
       "    }\n",
       "</style>\n",
       "<table border=\"1\" class=\"dataframe\">\n",
       "  <thead>\n",
       "    <tr style=\"text-align: right;\">\n",
       "      <th></th>\n",
       "      <th>Title</th>\n",
       "      <th>Plot</th>\n",
       "    </tr>\n",
       "  </thead>\n",
       "  <tbody>\n",
       "    <tr>\n",
       "      <th>0</th>\n",
       "      <td>The Godfather</td>\n",
       "      <td>1945 daughter connie wedding vito corleone hea...</td>\n",
       "    </tr>\n",
       "    <tr>\n",
       "      <th>1</th>\n",
       "      <td>Grave of the Vampire</td>\n",
       "      <td>several year death electrocution late 1930s gh...</td>\n",
       "    </tr>\n",
       "    <tr>\n",
       "      <th>2</th>\n",
       "      <td>The Great Northfield Minnesota Raid</td>\n",
       "      <td>mid 1870s outlaw jesse james cole younger brot...</td>\n",
       "    </tr>\n",
       "    <tr>\n",
       "      <th>3</th>\n",
       "      <td>Hammer</td>\n",
       "      <td>b j hammer boxer rise rank help mafia however ...</td>\n",
       "    </tr>\n",
       "    <tr>\n",
       "      <th>4</th>\n",
       "      <td>Hammersmith Is Out</td>\n",
       "      <td>billy breedlove beau bridge orderly texas psyc...</td>\n",
       "    </tr>\n",
       "  </tbody>\n",
       "</table>\n",
       "</div>"
      ],
      "text/plain": [
       "                                 Title  \\\n",
       "0                        The Godfather   \n",
       "1                 Grave of the Vampire   \n",
       "2  The Great Northfield Minnesota Raid   \n",
       "3                               Hammer   \n",
       "4                   Hammersmith Is Out   \n",
       "\n",
       "                                                Plot  \n",
       "0  1945 daughter connie wedding vito corleone hea...  \n",
       "1  several year death electrocution late 1930s gh...  \n",
       "2  mid 1870s outlaw jesse james cole younger brot...  \n",
       "3  b j hammer boxer rise rank help mafia however ...  \n",
       "4  billy breedlove beau bridge orderly texas psyc...  "
      ]
     },
     "execution_count": 6,
     "metadata": {},
     "output_type": "execute_result"
    }
   ],
   "source": [
    "data.head()"
   ]
  },
  {
   "cell_type": "markdown",
   "metadata": {},
   "source": [
    "## Computing TF-IDF and top words\n",
    "With processed data, we can begin to analyze significant words from the movie plots. We will use TF-IDF (https://en.wikipedia.org/wiki/Tf%E2%80%93idf) to do this. It will measure how frequently words occur in a document (or a movie plot in this case) compared to how often they occur overall. The scikit-learn library can do this for us:"
   ]
  },
  {
   "cell_type": "code",
   "execution_count": 7,
   "metadata": {},
   "outputs": [],
   "source": [
    "from sklearn.feature_extraction.text import TfidfVectorizer\n",
    "\n",
    "# vectorize the data, limited to the top 20k words to prevent movie \n",
    "# descriptions from just being names, and also to improve performance\n",
    "vectorizer = TfidfVectorizer(max_features=20000)\n",
    "tfidf = vectorizer.fit_transform(data[\"Plot\"])\n",
    "vocab = vectorizer.get_feature_names()"
   ]
  },
  {
   "cell_type": "markdown",
   "metadata": {},
   "source": [
    "This gives us tfidf, which is a matrix of the TF-IDF value of each word in our vocabulary. Its shape is (num movies, vocabulary size). The vocab variable is a list of all vocabulary words that correspond to the columns in tfidf."
   ]
  },
  {
   "cell_type": "code",
   "execution_count": 8,
   "metadata": {},
   "outputs": [
    {
     "data": {
      "text/plain": [
       "(8582, 20000)"
      ]
     },
     "execution_count": 8,
     "metadata": {},
     "output_type": "execute_result"
    }
   ],
   "source": [
    "tfidf.shape"
   ]
  },
  {
   "cell_type": "markdown",
   "metadata": {},
   "source": [
    "We will iterate through the in data, retrieving the k words with the highest TF-IDF:"
   ]
  },
  {
   "cell_type": "code",
   "execution_count": 9,
   "metadata": {},
   "outputs": [
    {
     "name": "stderr",
     "output_type": "stream",
     "text": [
      "Finding most significant words from each movie: 100%|████████████████████████████| 8582/8582 [00:01<00:00, 5729.39it/s]\n"
     ]
    }
   ],
   "source": [
    "import numpy as np\n",
    "from collections import defaultdict\n",
    "from tqdm import tqdm\n",
    "\n",
    "movies = defaultdict(set)\n",
    "\n",
    "# iterate through movies and find the top words from the TF-IDF\n",
    "for i in tqdm(range(data.shape[0]), \n",
    "              desc=\"Finding most significant words from each movie\"):\n",
    "    ind = np.argpartition(tfidf[i,].toarray()[0], kth=-25)[-25:]\n",
    "    movies[data.at[i, 'Title']] = set([vocab[j] for j in ind])"
   ]
  },
  {
   "cell_type": "markdown",
   "metadata": {},
   "source": [
    "Now we can use the movies dictionary to get the top k (25 in our case) words for a specific movie:"
   ]
  },
  {
   "cell_type": "code",
   "execution_count": 10,
   "metadata": {},
   "outputs": [
    {
     "data": {
      "text/plain": [
       "{'bruno',\n",
       " 'business',\n",
       " 'capo',\n",
       " 'carlo',\n",
       " 'connie',\n",
       " 'corleone',\n",
       " 'family',\n",
       " 'fish',\n",
       " 'five',\n",
       " 'fredo',\n",
       " 'godfather',\n",
       " 'greene',\n",
       " 'hagen',\n",
       " 'kay',\n",
       " 'la',\n",
       " 'luca',\n",
       " 'michael',\n",
       " 'moe',\n",
       " 'murder',\n",
       " 'role',\n",
       " 'sicily',\n",
       " 'sonny',\n",
       " 'tom',\n",
       " 'vega',\n",
       " 'vito'}"
      ]
     },
     "execution_count": 10,
     "metadata": {},
     "output_type": "execute_result"
    }
   ],
   "source": [
    "movies['The Godfather']"
   ]
  },
  {
   "cell_type": "markdown",
   "metadata": {},
   "source": [
    "## Search\n",
    "Using our movies dictionary we can search for specific keywords/titles. We will iterate through all of our movies, finding the union between a user's query and a movie's title or plot. The top 5 movies based on title/plot will be printed for each query. After the first query, the queries will find matches very quickly."
   ]
  },
  {
   "cell_type": "code",
   "execution_count": 16,
   "metadata": {},
   "outputs": [
    {
     "name": "stdout",
     "output_type": "stream",
     "text": [
      "\n",
      "Enter a movie title or a description of a movie, or 'quit' to stop: star wars luke leia skywalker yoda darth vader anakin fight jedi\n",
      "Movie titles most similar to 'star wars luke leia skywalker yoda darth vader anakin fight jedi':\n",
      "\t1. Star Wars: The Last Jedi\n",
      "\t2. Star Wars: The Clone Wars\n",
      "\t3. Star Wars Episode IV: A New Hope (aka Star Wars)\n",
      "\t4. Rogue One: A Star Wars Story (film)\n",
      "\t5. Wish Upon a Star\n",
      "Movie plots most similar to 'star wars luke leia skywalker yoda darth vader anakin fight jedi':\n",
      "\t1. Star Wars: Episode III – Revenge of the Sith\n",
      "\t2. Return of the Jedi\n",
      "\t3. Star Wars Episode IV: A New Hope (aka Star Wars)\n",
      "\t4. The Empire Strikes Back\n",
      "\t5. Star Wars: The Last Jedi\n",
      "\n",
      "Enter a movie title or a description of a movie, or 'quit' to stop: quit\n"
     ]
    }
   ],
   "source": [
    "while True:\n",
    "    text = input(\"\\nEnter a movie title or a description of a movie, or 'quit' to stop: \")\n",
    "    if text == 'quit':\n",
    "        break\n",
    "    plot = set(preprocess(text).split()) # preprocess the query to match plots (lemmatized)\n",
    "    title = set(text.lower().split()) - stop_words # not lemmatized to match exact wording of title\n",
    "    share_plot = []\n",
    "    share_title = []\n",
    "\n",
    "    for m in movies:\n",
    "        s = set(m.lower().split())\n",
    "        shared = len(s & title)\n",
    "        if shared: # add titles that share words\n",
    "            share_title.append((shared, m))\n",
    "\n",
    "        shared = len(movies[m] & plot)\n",
    "        if shared: # add plots that share words\n",
    "            share_plot.append((shared, m))\n",
    "\n",
    "    share_title.sort(reverse=True)\n",
    "    print(f\"Movie titles most similar to '{text}':\")\n",
    "    for i in range(min(5, len(share_title))):\n",
    "        print(f\"\\t{i+1}. {share_title[i][1]}\")\n",
    "        \n",
    "    share_plot.sort(reverse=True)\n",
    "    print(f\"Movie plots most similar to '{text}':\")\n",
    "    for i in range(min(5, len(share_plot))):\n",
    "        print(f\"\\t{i+1}. {share_plot[i][1]}\")"
   ]
  },
  {
   "cell_type": "markdown",
   "metadata": {},
   "source": [
    "## Conclusion\n",
    "This project was very fun to make and is pretty good for finding similar movies. It could be improved if it weighted the words that appeared by their rarity. The current search finds the number of words shared by the query and the description. This approach is simple and effective for short-medium queries, but is drowned out by common words when queries get longer. Using weighted words would ensure that rare words from queries/descriptions are matchted."
   ]
  }
 ],
 "metadata": {
  "kernelspec": {
   "display_name": "Python 3",
   "language": "python",
   "name": "python3"
  },
  "language_info": {
   "codemirror_mode": {
    "name": "ipython",
    "version": 3
   },
   "file_extension": ".py",
   "mimetype": "text/x-python",
   "name": "python",
   "nbconvert_exporter": "python",
   "pygments_lexer": "ipython3",
   "version": "3.8.5"
  }
 },
 "nbformat": 4,
 "nbformat_minor": 4
}
